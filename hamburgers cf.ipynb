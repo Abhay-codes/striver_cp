{
  "nbformat": 4,
  "nbformat_minor": 0,
  "metadata": {
    "colab": {
      "name": "Untitled4.ipynb",
      "provenance": []
    },
    "kernelspec": {
      "name": "python3",
      "display_name": "Python 3"
    },
    "language_info": {
      "name": "python"
    }
  },
  "cells": [
    {
      "cell_type": "code",
      "execution_count": 2,
      "metadata": {
        "colab": {
          "base_uri": "https://localhost:8080/"
        },
        "id": "5-vIr153iSzb",
        "outputId": "02c41884-2d84-4c42-fba4-5ee4b0764163"
      },
      "outputs": [
        {
          "output_type": "stream",
          "name": "stdout",
          "text": [
            "BBBSSC\n",
            "6 4 1\n",
            "1 2 3 \n",
            "4\n",
            "2\n"
          ]
        }
      ],
      "source": [
        "from IPython.core import hooks\n",
        "s=input()\n",
        "nb =ns=nc=0\n",
        "nb=s.count('B')\n",
        "ns=s.count('S')\n",
        "nc=s.count('C')\n",
        "hb,hs,hc=map(int,input().split())\n",
        "pb,ps,pc=map(int,input().split())\n",
        "m=int(input())\n",
        "k1=hb//nb\n",
        "k2=hs//ns\n",
        "k3=hc//nc\n",
        "st =min(k1,k2,k3)\n",
        "en =10**13 \n",
        "mx =0\n",
        "while(st<=en):\n",
        "\n",
        "\n",
        "  mid=(st+en)//2\n",
        "  b=mid*nb-hb \n",
        "  s=mid*ns-hs\n",
        "  c=mid*nc-hc \n",
        "  b =max(b,0)\n",
        "  s=max(s,0)\n",
        "  c=max(c,0)\n",
        "  p1=b*pb+s*ps+c*pc\n",
        "  if p1<m:\n",
        "    if mid>mx:\n",
        "      mx=mid \n",
        "    st=mid+1 \n",
        "  elif p1>m:\n",
        "    en=mid-1 \n",
        "  else:\n",
        "    if mid>mx:\n",
        "      mx=mid \n",
        "    break\n",
        "print(mx)\n",
        "    \n",
        "    \n",
        "\n",
        "  \n",
        "\n",
        "\n"
      ]
    },
    {
      "cell_type": "markdown",
      "source": [],
      "metadata": {
        "id": "cz7nZPSIkI_w"
      }
    },
    {
      "cell_type": "code",
      "source": [],
      "metadata": {
        "id": "ZTtAtLErkJgu"
      },
      "execution_count": null,
      "outputs": []
    }
  ]
}